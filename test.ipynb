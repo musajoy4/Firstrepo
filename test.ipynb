{
 "cells": [
  {
   "cell_type": "code",
   "execution_count": null,
   "metadata": {},
   "outputs": [
    {
     "name": "stdout",
     "output_type": "stream",
     "text": [
      "08067611859\n"
     ]
    }
   ],
   "source": [
    "# Quiz One: Write a fUnction that replaces the country code (+234) of a given phone number with (0) and returns the resulting phone number\n",
    "#           For example: \n",
    "#               input: +2348011223344\n",
    "#               output: 08011223344\n",
    "\n",
    "def replace_country_code(phone_number) :\n",
    "    replace_code = phone_number.replace(\"+234\",'0')\n",
    "    print(replace_code)\n",
    "    return\n",
    "replace_country_code('+2348067611859')\n"
   ]
  },
  {
   "cell_type": "code",
   "execution_count": null,
   "metadata": {},
   "outputs": [],
   "source": []
  },
  {
   "cell_type": "code",
   "execution_count": null,
   "metadata": {},
   "outputs": [
    {
     "data": {
      "text/plain": [
       "'work harder'"
      ]
     },
     "metadata": {},
     "output_type": "display_data"
    }
   ],
   "source": [
    "# Quiz Two: Write a function that:\n",
    "#           1. receives the test and exam scores of a student as individual arguments\n",
    "#           2. displays ('this is an 'A' student') upon function call if the total score exceeds 75 marks\n",
    "#           2. returns the total score\n",
    "def totalscore(test,exam):\n",
    "    total=test+exam\n",
    "    if total >= 75:\n",
    "        print(\"This is an 'A\\' student\")\n",
    "        return total\n",
    "    else:\n",
    "        return \"work harder\"\n",
    "\n",
    "\n",
    "totalscore(5,60)"
   ]
  }
 ],
 "metadata": {
  "kernelspec": {
   "display_name": "base",
   "language": "python",
   "name": "python3"
  },
  "language_info": {
   "codemirror_mode": {
    "name": "ipython",
    "version": 3
   },
   "file_extension": ".py",
   "mimetype": "text/x-python",
   "name": "python",
   "nbconvert_exporter": "python",
   "pygments_lexer": "ipython3",
   "version": "3.10.9"
  }
 },
 "nbformat": 4,
 "nbformat_minor": 2
}
